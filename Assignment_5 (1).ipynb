{
  "nbformat": 4,
  "nbformat_minor": 0,
  "metadata": {
    "colab": {
      "provenance": []
    },
    "kernelspec": {
      "name": "python3",
      "display_name": "Python 3"
    },
    "language_info": {
      "name": "python"
    }
  },
  "cells": [
    {
      "cell_type": "markdown",
      "source": [
        "1.What is the difference between interpreted and compiled languages?\n",
        ">>Answer:A compiled language is a programming language that is generally compiled and not interpreted. It is one where the program, once compiled, is expressed in the instructions of the target machine; this machine code is undecipherable by humans. Types of compiled language – C, C++, C#, CLEO, COBOL, etc.\n",
        ">>An interpreted language is a programming language that is generally interpreted, without compiling a program into machine instructions. It is one where the instructions are not directly executed by the target machine, but instead, read and executed by some other program. Interpreted language ranges – JavaScript, Perl, Python, BASIC, etc."
      ],
      "metadata": {
        "id": "1DKfpe03NVDK"
      }
    },
    {
      "cell_type": "markdown",
      "source": [
        "2.What is exception handling in Python?\n",
        ">>Answer:Python Exception Handling handles errors that occur during the execution of a program. Exception handling allows to respond to the error, instead of crashing the running program. It enables you to catch and manage errors, making your code more robust and user-friendly."
      ],
      "metadata": {
        "id": "DtZKypuKNmxT"
      }
    },
    {
      "cell_type": "markdown",
      "source": [
        "3.What is the purpose of the finally block in exception handling?\n",
        ">>Answer:The `finally` block is a crucial component of exception handling in programming languages such as Java, C#, and Python. Its primary purpose is to ensure that certain cleanup code runs regardless of whether an exception is thrown, providing a unified way to handle resource management, like closing files or releasing memory, after an operation."
      ],
      "metadata": {
        "id": "h3v3wtB2NyPh"
      }
    },
    {
      "cell_type": "markdown",
      "source": [
        "4.What is logging in Python?\n",
        ">>Answer:Logging is a means of tracking events that happen when some software runs. Logging is important for software developing, debugging, and running. If you don’t have any logging record and your program crashes, there are very few chances that you detect the cause of the problem. And if you detect the cause, it will consume a lot of time. With logging, you can leave a trail of breadcrumbs so that if something goes wrong, we can determine the cause of the problem.\n",
        "\n",
        "There are a number of situations like if you are expecting an integer, you have been given a float and you can a cloud API, the service is down for maintenance, and much more. Such problems are out of control and are hard to determine."
      ],
      "metadata": {
        "id": "ack4g59hOIdd"
      }
    },
    {
      "cell_type": "markdown",
      "source": [
        "5.What is the significance of the __del__ method in Python?\n",
        ">>Answer:The __del__ method is a special method in Python that is called when an object is about to be destroyed. It allows you to define specific cleanup actions that should be taken when an object is garbage collected. This method can be particularly useful for releasing external resources such as file handles, network connections, or database connections that the object may hold."
      ],
      "metadata": {
        "id": "8w1gAdJNOYNU"
      }
    },
    {
      "cell_type": "markdown",
      "source": [
        "6.What is the difference between import and from ... import in Python?\n",
        ">>Answer:import imports an entire code library.\n",
        "from import imports a specific member or members of the library.\n",
        "\n",
        ">>Use from import when you want to save yourself from typing the module name over and over again. In other words, use from import when referring to a member of the module many times in the code.\n",
        "\n",
        "Use import when you want to use multiple members of the module."
      ],
      "metadata": {
        "id": "AX8qn9TSOk2a"
      }
    },
    {
      "cell_type": "markdown",
      "source": [
        "7.How can you handle multiple exceptions in Python?\n",
        ">>Answer:Many exceptions are grouped into an inheritance hierarchy. For such exceptions, all of the exceptions can be caught by simply specifying a base class."
      ],
      "metadata": {
        "id": "nUY99cZjPEnK"
      }
    },
    {
      "cell_type": "markdown",
      "source": [
        "8.What is the purpose of the with statement when handling files in Python?\n",
        ">>Answer: The with statement in Python is used for resource management and exception handling. It simplifies working with resources like files, network connections and database connections by ensuring they are properly acquired and released. When we open a file, we need to close it ourself using close(). But if something goes wrong before closing, the file might stay open, causing issues. Using with open() automatically closes the file when we’re done, even if an error happens"
      ],
      "metadata": {
        "id": "I9p8tPXgPpY-"
      }
    },
    {
      "cell_type": "markdown",
      "source": [
        "9.What is the difference between multithreading and multiprocessing?\n",
        ">>Answer:Multiprocessing uses multiple CPUs to run many processes at a time while multithreading creates multiple threads within a single process to get faster and more efficient task execution. Both Multiprocessing and Multithreading are used to increase the computing power of a system in different ways. In this article, we are going to discuss the difference between multiprocessing and multithreading in detail."
      ],
      "metadata": {
        "id": "2NJF12P1muU-"
      }
    },
    {
      "cell_type": "markdown",
      "source": [
        "10. What are the advantages of using logging in a program?\n",
        ">>Answer :Logging is a means of tracking events that happen when some software runs. Logging is important for software developing, debugging, and running. If you don’t have any logging record and your program crashes, there are very few chances that you detect the cause of the problem. And if you detect the cause, it will consume a lot of time. With logging, you can leave a trail of breadcrumbs so that if something goes wrong, we can determine the cause of the problem."
      ],
      "metadata": {
        "id": "SlP4Iqu-m96c"
      }
    },
    {
      "cell_type": "markdown",
      "source": [
        "11.What is memory management in Python?\n",
        ">>Answer : ow Memory Management Works in Python\n",
        "Memory Allocation\n",
        "\n",
        "Python uses a private heap space to store all objects and data structures.\n",
        "The memory manager handles the allocation of heap memory for objects.\n",
        "Built-in data types like lists, dictionaries, and numbers are all stored in the heap.\n",
        "Garbage Collection\n",
        "\n",
        "Python automatically removes unused objects from memory through Garbage Collection (GC).\n",
        "It uses a reference counting mechanism to keep track of how many references point to an object.\n",
        "If an object’s reference count reaches zero, it means the object is no longer needed, and it is automatically deleted.\n",
        "Reference Counting\n",
        "\n",
        "Every object in Python has an associated reference count.\n",
        "When an object is assigned to a variable, the reference count increases.\n",
        "If the variable is deleted or reassigned, the reference count decreases."
      ],
      "metadata": {
        "id": "3JMsop4QNQiV"
      }
    },
    {
      "cell_type": "markdown",
      "source": [
        "12.What are the basic steps involved in exception handling in Python?\n",
        ">>Answer : Exception handling in Python is used to manage and respond to runtime errors (also known as exceptions) without crashing the program.\n",
        "\n",
        "Python uses try-except blocks to catch and handle exceptions gracefully.\n",
        "\n",
        "Try Block\n",
        "\n",
        "The code that might raise an exception is written inside the try block.\n",
        "Python will attempt to execute this code.\n",
        "\n",
        "Except Block\n",
        "\n",
        "If an exception occurs in the try block, the code execution will jump to the except block.\n",
        "This block contains code that handles the exception.\n",
        "Finally Block (Optional)\n",
        "\n",
        "The finally block always executes whether an exception occurs or not.\n",
        "It is used to release resources like closing files or network connections."
      ],
      "metadata": {
        "id": "wZTvpCJzOYm0"
      }
    },
    {
      "cell_type": "markdown",
      "source": [
        "13.Why is memory management important in Python?\n",
        ">>Answer : Memory management is crucial in Python because it directly impacts the performance, stability, and efficiency of a program.\n",
        "\n",
        "Even though Python automatically handles memory allocation and garbage collection, understanding memory management helps developers optimize applications and avoid memory-related issues like memory leaks.\n",
        "Efficient Resource Utilization\n",
        "Every object in Python consumes memory.\n",
        "Proper memory management ensures that unused objects are removed to free up system resources.\n",
        "This helps the program run faster and consume less memory.\n",
        "\n",
        "Avoiding Memory Leaks\n",
        "Memory leaks happen when the program fails to release memory that is no longer needed.\n",
        "Python’s Garbage Collector automatically removes unused objects, but poor coding practices (like circular references) can still cause memory leaks."
      ],
      "metadata": {
        "id": "bjaDXiC2OwEr"
      }
    },
    {
      "cell_type": "markdown",
      "source": [
        "14. What is the role of try and except in exception handling?\n",
        ">>Answer: Try: This block will test the excepted error to occur\n",
        "Except:  Here you can handle the error\n",
        "\n",
        ">>First try clause is executed i.e. the code between try and except clause.\n",
        "If there is no exception, then only try clause will run, except clause will not get executed.\n",
        "If any exception occurs, the try clause will be skipped and except clause will run.\n",
        "If any exception occurs, but the except clause within the code doesn’t handle it, it is passed on to the outer try statements. If the exception is left unhandled, then the execution stops.\n",
        "A try statement can have more than one except clause.\n"
      ],
      "metadata": {
        "id": "Vgq042i6PCzG"
      }
    },
    {
      "cell_type": "markdown",
      "source": [
        "15. How does Python's garbage collection system work?\n",
        ">>Answer : Garbage collection is a memory management technique used in programming languages to automatically reclaim memory that is no longer accessible or in use by the application. It helps prevent memory leaks, optimize memory usage, and ensure efficient memory allocation for the program."
      ],
      "metadata": {
        "id": "DILRtw-mPr6E"
      }
    },
    {
      "cell_type": "markdown",
      "source": [
        "16.What is the purpose of the else block in exception handling?\n",
        ">>Answer:Else code comes into execution only when there is no exception raised in the try block. The code inside this block is the same as normal code. If an exception is raised then this block will not run and may stop the program."
      ],
      "metadata": {
        "id": "avvr7ECMP1_A"
      }
    },
    {
      "cell_type": "markdown",
      "source": [
        "17. What are the common logging levels in Python?\n",
        ">>Anser : Logging is a means of tracking events that happen when some software runs. Logging is important for software developing, debugging, and running. If you don’t have any logging record and your program crashes, there are very few chances that you detect the cause of the problem. And if you detect the cause, it will consume a lot of time. With logging, you can leave a trail of breadcrumbs so that if something goes wrong, we can determine the cause of the problem"
      ],
      "metadata": {
        "id": "auJEPgdgQMhg"
      }
    },
    {
      "cell_type": "markdown",
      "source": [
        "18. What is the difference between os.fork() and multiprocessing in Python?\n",
        ">>Answer : Consider a computer system with a single processor. If it is assigned several processes at the same time, it will have to interrupt each task and switch briefly to another, to keep all of the processes going. This situation is just like a chef working in a kitchen alone. He has to do several tasks like baking, stirring, kneading dough, etc. So the gist is that: The more tasks you must do at once, the more difficult it gets to keep track of them all, and keeping the timing right becomes more of a challenge. This is where the concept of multiprocessing arises!"
      ],
      "metadata": {
        "id": "jG_81vlfQctN"
      }
    },
    {
      "cell_type": "markdown",
      "source": [
        "19. What is the importance of closing a file in Python?\n",
        ">>Answer : Closing a file object in Python is crucial to prevent resource leaks and ensure that changes are saved. Always use the close() method in conjunction with a try-finally block to guarantee proper closure, whether you are reading from or writing to a file. This practice promotes clean and efficient file handling in Python programs."
      ],
      "metadata": {
        "id": "xA_CVXl_QqYf"
      }
    },
    {
      "cell_type": "markdown",
      "source": [
        "20. What is the difference between file.read() and file.readline() in Python?\n",
        ">>Answer : The three main functions you can use to read content from a file are read(), readline() and readlines().\n",
        "\n",
        "read() reads the entire file and returns a string, readline() reads just one line from a file, and readlines() returns a list of strings representing the lines of the file.\n",
        "\n",
        "The next function you can use to read content from a file is the readlines() function. readlines() reads all of the lines and returns a list of strings.\n",
        "\n",
        "Using readlines() can be useful if you are going to process the file line by line, or want to extract certain lines out of a file.\n",
        "\n",
        "\n"
      ],
      "metadata": {
        "id": "5VTTzA92RCMU"
      }
    },
    {
      "cell_type": "markdown",
      "source": [
        "21. What is the logging module in Python used for ?\n",
        ">>Answer : Logging is a means of tracking events that happen when some software runs. Logging is important for software developing, debugging, and running. If you don’t have any logging record and your program crashes, there are very few chances that you detect the cause of the problem. And if you detect the cause, it will consume a lot of time. With logging, you can leave a trail of breadcrumbs so that if something goes wrong, we can determine the cause of the problem."
      ],
      "metadata": {
        "id": "eaukCly6RoH3"
      }
    },
    {
      "cell_type": "markdown",
      "source": [
        "22. What is the os module in Python used for in file handling?\n",
        ">>Answer : The OS module in Python provides functions for interacting with the operating system. OS comes under Python’s standard utility modules. This module provides a portable way of using operating system-dependent functionality.\n",
        "\n",
        "The *os* and *os.path* modules include many functions to interact with the file system."
      ],
      "metadata": {
        "id": "rjTd7AMJRztM"
      }
    },
    {
      "cell_type": "markdown",
      "source": [
        "23. What are the challenges associated with memory management in Python?\n",
        ">>Answer :"
      ],
      "metadata": {
        "id": "L1CLeVVAR-yG"
      }
    },
    {
      "cell_type": "markdown",
      "source": [
        "24. How do you raise an exception manually in Python?\n",
        ">>Answer : This is useful when you want to indicate that something went wrong in your code, even if Python doesn't automatically detect the issue.\n",
        "\n",
        "**Example **\n",
        "\n",
        "age = int(input(\"Enter your age: \"))\n",
        "\n",
        "if age < 0:\n",
        "    raise ValueError(\"Age cannot be negative\")\n",
        "else:\n",
        "    print(\"Your age is:\", age)\n"
      ],
      "metadata": {
        "id": "_BrD17c2SZPv"
      }
    },
    {
      "cell_type": "markdown",
      "source": [
        "25. Why is it important to use multithreading in certain applications?\n",
        ">>Answer : Multithreading is a crucial concept in modern computing that allows multiple threads to execute concurrently, enabling more efficient utilization of system resources. By breaking down tasks into smaller threads, applications can achieve higher performance, better responsiveness, and enhanced scalability. Whether it’s handling multiple user requests or performing complex operations in parallel, multithreading is an essential technique in both single-processor and multi-processor systems. This article explores the key benefits of multithreading and how it contributes to optimizing program execution."
      ],
      "metadata": {
        "id": "spueosQGS30N"
      }
    },
    {
      "cell_type": "markdown",
      "source": [
        "Pratical Questions **bold text**"
      ],
      "metadata": {
        "id": "HNy0eTzYTLMW"
      }
    },
    {
      "cell_type": "code",
      "source": [
        "#1 How can you open a file for writing in Python and write a string to it\n",
        "file = open(\"filename.txt\", \"w\")\n",
        "file.write(\"Hello, World!\")\n",
        "file.close()\n"
      ],
      "metadata": {
        "id": "1MzSWo5JTO4P"
      },
      "execution_count": null,
      "outputs": []
    },
    {
      "cell_type": "code",
      "source": [
        "#2 Write a Python program to read the contents of a file and print each line.\n",
        "# Open the file in read mode\n",
        "with open(\"example.txt\", \"r\") as file:\n",
        "    # Loop through each line in the file\n",
        "    for line in file:\n",
        "        print(line.strip())  # strip() removes extra newline characters\n"
      ],
      "metadata": {
        "id": "GtD9WGxYTcMu"
      },
      "execution_count": null,
      "outputs": []
    },
    {
      "cell_type": "code",
      "source": [
        "#3.How would you handle a case where the file doesn't exist while trying to open it for reading.\n",
        "try:\n",
        "    with open(\"example.txt\", \"r\") as file:\n",
        "        for line in file:\n",
        "            print(line.strip())\n",
        "except FileNotFoundError:\n",
        "    print(\"Error: The file does not exist.\")\n"
      ],
      "metadata": {
        "id": "8VXLpQ8aT4d0"
      },
      "execution_count": null,
      "outputs": []
    },
    {
      "cell_type": "code",
      "source": [
        "#4.Write a Python script that reads from one file and writes its content to another file.\n",
        "try:\n",
        "    # Open the source file for reading\n",
        "    with open(\"source.txt\", \"r\") as source_file:\n",
        "        # Read the content of the source file\n",
        "        content = source_file.read()\n",
        "\n",
        "    # Open the destination file for writing\n",
        "    with open(\"destination.txt\", \"w\") as destination_file:\n",
        "        # Write content to the destination file\n",
        "        destination_file.write(content)\n",
        "\n",
        "    print(\"File content copied successfully!\")\n",
        "\n",
        "except FileNotFoundError:\n",
        "    print(\"Error: Source file not found.\")\n",
        "except PermissionError:\n",
        "    print(\"Error: You don't have permission to access the file.\")\n",
        "except Exception as e:\n",
        "    print(f\"An unexpected error occurred: {e}\")\n"
      ],
      "metadata": {
        "id": "R8ekMAEJUKRu"
      },
      "execution_count": null,
      "outputs": []
    },
    {
      "cell_type": "code",
      "source": [
        "#5. How would you catch and handle division by zero error in Python.\n",
        "try:\n",
        "    result = 10 / 0  # This will raise ZeroDivisionError\n",
        "except ZeroDivisionError:\n",
        "    print(\"Error: Cannot divide by zero!\")\n"
      ],
      "metadata": {
        "id": "w3FUsKbrUj11"
      },
      "execution_count": null,
      "outputs": []
    },
    {
      "cell_type": "code",
      "source": [
        "#6.Write a Python program that logs an error message to a log file when a division by zero exception occurs.\n",
        "import logging\n",
        "\n",
        "# Configure logging to write errors to a log file\n",
        "logging.basicConfig(filename=\"error.log\", level=logging.ERROR,\n",
        "                    format=\"%(asctime)s - %(levelname)s - %(message)s\")\n",
        "\n",
        "def divide_numbers(a, b):\n",
        "    try:\n",
        "        result = a / b\n",
        "        print(\"Result:\", result)\n",
        "    except ZeroDivisionError:\n",
        "        print(\"Error: Cannot divide by zero!\")\n",
        "        logging.error(\"Division by zero attempted with a=%d and b=%d\", a, b)\n",
        "\n",
        "# Example usage\n",
        "num1 = int(input(\"Enter numerator: \"))\n",
        "num2 = int(input(\"Enter denominator: \"))\n",
        "\n",
        "divide_numbers(num1, num2)\n",
        "print(\"Program completed.\")\n"
      ],
      "metadata": {
        "colab": {
          "base_uri": "https://localhost:8080/"
        },
        "id": "hHDdTlL1alOY",
        "outputId": "ad8d0a06-39ef-4d16-e8b9-104b04f1c426"
      },
      "execution_count": null,
      "outputs": [
        {
          "output_type": "stream",
          "name": "stdout",
          "text": [
            "Enter numerator: 56\n",
            "Enter denominator: 25\n",
            "Result: 2.24\n",
            "Program completed.\n"
          ]
        }
      ]
    },
    {
      "cell_type": "code",
      "source": [
        "#7. How do you log information at different levels (INFO, ERROR, WARNING) in Python using the logging module.\n",
        "import logging\n",
        "\n",
        "# Configure logging\n",
        "logging.basicConfig(\n",
        "    filename=\"app.log\",\n",
        "    level=logging.DEBUG,  # Set the minimum log level\n",
        "    format=\"%(asctime)s - %(levelname)s - %(message)s\"\n",
        ")\n",
        "\n",
        "def divide(a, b):\n",
        "    logging.info(\"Function divide() called with a=%d and b=%d\", a, b)\n",
        "    try:\n",
        "        result = a / b\n",
        "        logging.debug(\"Division successful: %d / %d = %f\", a, b, result)\n",
        "        return result\n",
        "    except ZeroDivisionError:\n",
        "        logging.error(\"Division by zero attempted with a=%d and b=%d\", a, b)\n",
        "    except Exception as e:\n",
        "        logging.critical(\"Unexpected error: %s\", str(e))\n",
        "\n",
        "# Example usage\n",
        "divide(10, 2)  # This will log INFO and DEBUG\n",
        "divide(5, 0)   # This will log ERROR\n",
        "divide(\"a\", 1) # This will log CRITICAL\n",
        "\n",
        "print(\"Program Completed.\")\n"
      ],
      "metadata": {
        "id": "37A_KRKbalK0"
      },
      "execution_count": null,
      "outputs": []
    },
    {
      "cell_type": "code",
      "source": [
        "#8.Write a program to handle a file opening error using exception handling.\n",
        "def read_file(filename):\n",
        "    try:\n",
        "        # Attempt to open the file in read mode\n",
        "        with open(filename, \"r\") as file:\n",
        "            content = file.read()\n",
        "            print(\"File Content:\\n\", content)\n",
        "\n",
        "    except FileNotFoundError:\n",
        "        print(f\"Error: The file '{filename}' does not exist.\")\n",
        "\n",
        "    except PermissionError:\n",
        "        print(f\"Error: You don't have permission to access '{filename}'.\")\n",
        "\n",
        "    except Exception as e:\n",
        "        print(f\"An unexpected error occurred: {e}\")\n",
        "\n",
        "# Example Usage\n",
        "filename = input(\"Enter file name: \")\n",
        "read_file(filename)\n",
        "print(\"Program completed.\")\n"
      ],
      "metadata": {
        "id": "QCUMm7i9beYO"
      },
      "execution_count": null,
      "outputs": []
    },
    {
      "cell_type": "code",
      "source": [
        "#9.How can you read a file line by line and store its content in a list in Python?\n",
        "lines = []\n",
        "with open(\"example.txt\", \"r\") as file:\n",
        "    for line in file:\n",
        "        lines.append(line.strip())  # Strip removes newline characters\n",
        "\n",
        "print(lines)\n"
      ],
      "metadata": {
        "colab": {
          "base_uri": "https://localhost:8080/",
          "height": 211
        },
        "id": "YBCDpf2UbrKg",
        "outputId": "0f79bd66-8d7b-438a-d7f0-30f381279724"
      },
      "execution_count": null,
      "outputs": [
        {
          "output_type": "error",
          "ename": "FileNotFoundError",
          "evalue": "[Errno 2] No such file or directory: 'example.txt'",
          "traceback": [
            "\u001b[0;31m---------------------------------------------------------------------------\u001b[0m",
            "\u001b[0;31mFileNotFoundError\u001b[0m                         Traceback (most recent call last)",
            "\u001b[0;32m<ipython-input-4-f04261fc0b7b>\u001b[0m in \u001b[0;36m<cell line: 0>\u001b[0;34m()\u001b[0m\n\u001b[1;32m      1\u001b[0m \u001b[0;31m#9.How can you read a file line by line and store its content in a list in Python?\u001b[0m\u001b[0;34m\u001b[0m\u001b[0;34m\u001b[0m\u001b[0m\n\u001b[1;32m      2\u001b[0m \u001b[0mlines\u001b[0m \u001b[0;34m=\u001b[0m \u001b[0;34m[\u001b[0m\u001b[0;34m]\u001b[0m\u001b[0;34m\u001b[0m\u001b[0;34m\u001b[0m\u001b[0m\n\u001b[0;32m----> 3\u001b[0;31m \u001b[0;32mwith\u001b[0m \u001b[0mopen\u001b[0m\u001b[0;34m(\u001b[0m\u001b[0;34m\"example.txt\"\u001b[0m\u001b[0;34m,\u001b[0m \u001b[0;34m\"r\"\u001b[0m\u001b[0;34m)\u001b[0m \u001b[0;32mas\u001b[0m \u001b[0mfile\u001b[0m\u001b[0;34m:\u001b[0m\u001b[0;34m\u001b[0m\u001b[0;34m\u001b[0m\u001b[0m\n\u001b[0m\u001b[1;32m      4\u001b[0m     \u001b[0;32mfor\u001b[0m \u001b[0mline\u001b[0m \u001b[0;32min\u001b[0m \u001b[0mfile\u001b[0m\u001b[0;34m:\u001b[0m\u001b[0;34m\u001b[0m\u001b[0;34m\u001b[0m\u001b[0m\n\u001b[1;32m      5\u001b[0m         \u001b[0mlines\u001b[0m\u001b[0;34m.\u001b[0m\u001b[0mappend\u001b[0m\u001b[0;34m(\u001b[0m\u001b[0mline\u001b[0m\u001b[0;34m.\u001b[0m\u001b[0mstrip\u001b[0m\u001b[0;34m(\u001b[0m\u001b[0;34m)\u001b[0m\u001b[0;34m)\u001b[0m  \u001b[0;31m# Strip removes newline characters\u001b[0m\u001b[0;34m\u001b[0m\u001b[0;34m\u001b[0m\u001b[0m\n",
            "\u001b[0;31mFileNotFoundError\u001b[0m: [Errno 2] No such file or directory: 'example.txt'"
          ]
        }
      ]
    },
    {
      "cell_type": "code",
      "source": [
        "#10. How can you append data to an existing file in Python\n",
        "import os\n",
        "\n",
        "filename = \"example.txt\"\n",
        "\n",
        "if os.path.exists(filename):\n",
        "    with open(filename, \"a\") as file:\n",
        "        file.write(\"New data appended.\\n\")\n",
        "        print(\"Data appended successfully!\")\n",
        "else:\n",
        "    print(f\"File '{filename}' does not exist.\")\n"
      ],
      "metadata": {
        "id": "_Twbfx72d4G3"
      },
      "execution_count": null,
      "outputs": []
    },
    {
      "cell_type": "code",
      "source": [
        "# #11. Write a Python program that uses a try-except block to handle an error when attempting to access a\n",
        "# dictionary key that doesn't exist\n",
        "def access_dictionary_key(my_dict, key):\n",
        "    try:\n",
        "        value = my_dict[key]\n",
        "        print(f\"Value for '{key}': {value}\")\n",
        "    except KeyError:\n",
        "        print(f\"Error: Key '{key}' does not exist in the dictionary.\")\n",
        "\n",
        "# Example usage\n",
        "my_dict = {'name': 'Alice', 'age': 25, 'city': 'New York'}\n",
        "\n",
        "# Accessing existing key\n",
        "access_dictionary_key(my_dict, 'name')\n",
        "\n",
        "# Attempting to access a non-existing key\n",
        "access_dictionary_key(my_dict, 'country')"
      ],
      "metadata": {
        "id": "qNXV7jxfenWr"
      },
      "execution_count": null,
      "outputs": []
    },
    {
      "cell_type": "code",
      "source": [
        " #12. Write a program that demonstrates using multiple except blocks to handle different types of exceptions.\n",
        " def handle_exceptions(value1, value2):\n",
        "    try:\n",
        "        result = value1 / value2\n",
        "        print(f\"Result: {result}\")\n",
        "        index = int(input(\"Enter an index to access in the list [1, 2, 3]: \"))\n",
        "        sample_list = [1, 2, 3]\n",
        "        print(f\"Value at index {index}: {sample_list[index]}\")\n",
        "    except ZeroDivisionError:\n",
        "        print(\"Error: Division by zero is not allowed.\")\n",
        "    except IndexError:\n",
        "        print(\"Error: List index out of range.\")\n",
        "    except ValueError:\n",
        "        print(\"Error: Invalid input. Please enter an integer.\")\n",
        "\n",
        "# Example usage\n",
        "handle_exceptions(10, 2)\n",
        "handle_exceptions(10, 0)\n"
      ],
      "metadata": {
        "id": "YUnG5NfbfnLn"
      },
      "execution_count": 4,
      "outputs": []
    },
    {
      "cell_type": "code",
      "source": [
        "#13. How would you check if a file exists before attempting to read it in Python\n",
        "from pathlib import Path\n",
        "\n",
        "def read_file(filename):\n",
        "    file_path = Path(filename)\n",
        "    if file_path.exists():\n",
        "        with open(filename, 'r') as file:\n",
        "            content = file.read()\n",
        "            print(content)\n",
        "    else:\n",
        "        print(f\"Error: The file '{filename}' does not exist.\")\n",
        "\n",
        "# Example usage\n",
        "read_file(\"example.txt\")\n"
      ],
      "metadata": {
        "id": "kzRcut7QgOZs"
      },
      "execution_count": null,
      "outputs": []
    },
    {
      "cell_type": "code",
      "source": [
        "#14. Write a program that uses the logging module to log both informational and error messages.\n",
        "import logging\n",
        "\n",
        "# Configure logging\n",
        "logging.basicConfig(level=logging.INFO, format='%(asctime)s - %(levelname)s - %(message)s')\n",
        "\n",
        "def handle_exceptions(value1, value2):\n",
        "    try:\n",
        "        result = value1 / value2\n",
        "        logging.info(f\"Result: {result}\")\n",
        "        index = int(input(\"Enter an index to access in the list [1, 2, 3]: \"))\n",
        "        sample_list = [1, 2, 3]\n",
        "        logging.info(f\"Value at index {index}: {sample_list[index]}\")\n",
        "    except ZeroDivisionError:\n",
        "        logging.error(\"Division by zero is not allowed.\")\n",
        "    except IndexError:\n",
        "        logging.error(\"List index out of range.\")\n",
        "    except ValueError:\n",
        "        logging.error(\"Invalid input. Please enter an integer.\")\n",
        "\n",
        "# Example usage\n",
        "handle_exceptions(10, 2)\n",
        "handle_exceptions(10, 0)"
      ],
      "metadata": {
        "id": "aCdmbul9gfwz"
      },
      "execution_count": null,
      "outputs": []
    },
    {
      "cell_type": "code",
      "source": [
        "#15. Write a Python program that prints the content of a file and handles the case when the file is empty\n",
        "def print_file_content(file_path):\n",
        "    try:\n",
        "        with open(file_path, 'r') as file:\n",
        "            content = file.read()\n",
        "            if content.strip():  # Check if content is not empty after stripping whitespace\n",
        "                print(\"File Content:\")\n",
        "                print(content)\n",
        "            else:\n",
        "                print(\"The file is empty.\")\n",
        "    except FileNotFoundError:\n",
        "        print(f\"Error: The file '{file_path}' was not found.\")\n",
        "    except Exception as e:\n",
        "        print(f\"An unexpected error occurred: {e}\")\n",
        "\n",
        "# Example usage\n",
        "file_path = 'example.txt'  # Replace with your file path\n",
        "print_file_content(file_path)\n"
      ],
      "metadata": {
        "id": "uHFA45Uigx2e"
      },
      "execution_count": null,
      "outputs": []
    },
    {
      "cell_type": "code",
      "source": [
        "#16.Demonstrate how to use memory profiling to check the memory usage of a small program.\n",
        "import tracemalloc\n",
        "\n",
        "def print_file_content(file_path):\n",
        "    try:\n",
        "        with open(file_path, 'r') as file:\n",
        "            content = file.read()\n",
        "            if content.strip():  # Check if content is not empty after stripping whitespace\n",
        "                print(\"File Content:\")\n",
        "                print(content)\n",
        "            else:\n",
        "                print(\"The file is empty.\")\n",
        "    except FileNotFoundError:\n",
        "        print(f\"Error: The file '{file_path}' was not found.\")\n",
        "    except Exception as e:\n",
        "        print(f\"An unexpected error occurred: {e}\")\n",
        "\n",
        "# Example usage with memory profiling\n",
        "if __name__ == '__main__':\n",
        "    file_path = 'example.txt'  # Replace with your file path\n",
        "    tracemalloc.start()  # Start memory profiling\n",
        "    print_file_content(file_path)\n",
        "    current, peak = tracemalloc.get_traced_memory()\n",
        "    print(f\"Current memory usage: {current / 10**6} MB\")\n",
        "    print(f\"Peak memory usage: {peak / 10**6} MB\")\n",
        "    tracemalloc.stop()\n",
        "\n"
      ],
      "metadata": {
        "id": "chdpF9TlhGvI"
      },
      "execution_count": null,
      "outputs": []
    },
    {
      "cell_type": "code",
      "source": [
        "#17.  Write a Python program to create and write a list of numbers to a file, one number per line.\n",
        "import tracemalloc\n",
        "\n",
        "def print_file_content(file_path):\n",
        "    try:\n",
        "        with open(file_path, 'r') as file:\n",
        "            content = file.read()\n",
        "            if content.strip():  # Check if content is not empty after stripping whitespace\n",
        "                print(\"File Content:\")\n",
        "                print(content)\n",
        "            else:\n",
        "                print(\"The file is empty.\")\n",
        "    except FileNotFoundError:\n",
        "        print(f\"Error: The file '{file_path}' was not found.\")\n",
        "    except Exception as e:\n",
        "        print(f\"An unexpected error occurred: {e}\")\n",
        "\n",
        "def write_numbers_to_file(file_path, numbers):\n",
        "    try:\n",
        "        with open(file_path, 'w') as file:\n",
        "            for number in numbers:\n",
        "                file.write(f\"{number}\\n\")\n",
        "        print(f\"Numbers written to {file_path}\")\n",
        "    except Exception as e:\n",
        "        print(f\"An unexpected error occurred while writing to file: {e}\")\n",
        "\n",
        "# Example usage with memory profiling\n",
        "if __name__ == '__main__':\n",
        "    file_path = 'example.txt'  # Replace with your file path\n",
        "    numbers = list(range(1, 11))  # Example list of numbers\n",
        "    write_numbers_to_file(file_path, numbers)\n",
        "\n",
        "    tracemalloc.start()  # Start memory profiling\n",
        "    print_file_content(file_path)\n",
        "    current, peak = tracemalloc.get_traced_memory()\n",
        "    print(f\"Current memory usage: {current / 10**6} MB\")\n",
        "    print(f\"Peak memory usage: {peak / 10**6} MB\")\n",
        "    tracemalloc.stop()\n"
      ],
      "metadata": {
        "id": "XO8iQsEmhi1m"
      },
      "execution_count": null,
      "outputs": []
    },
    {
      "cell_type": "code",
      "source": [
        "#18. How would you implement a basic logging setup that logs to a file with rotation after 1MB.\n",
        "import tracemalloc\n",
        "import logging\n",
        "from logging.handlers import RotatingFileHandler\n",
        "\n",
        "def setup_logging(log_file):\n",
        "    logger = logging.getLogger()\n",
        "    logger.setLevel(logging.INFO)\n",
        "    handler = RotatingFileHandler(log_file, maxBytes=1*1024*1024, backupCount=3)  # 1MB rotation, keep 3 backups\n",
        "    formatter = logging.Formatter('%(asctime)s - %(levelname)s - %(message)s')\n",
        "    handler.setFormatter(formatter)\n",
        "    logger.addHandler(handler)\n",
        "\n",
        "def print_file_content(file_path):\n",
        "    try:\n",
        "        with open(file_path, 'r') as file:\n",
        "            content = file.read()\n",
        "            if content.strip():  # Check if content is not empty after stripping whitespace\n",
        "                logging.info(\"File Content:\")\n",
        "                logging.info(content)\n",
        "                print(\"File Content:\")\n",
        "                print(content)\n",
        "            else:\n",
        "                logging.warning(\"The file is empty.\")\n",
        "                print(\"The file is empty.\")\n",
        "    except FileNotFoundError:\n",
        "        logging.error(f\"Error: The file '{file_path}' was not found.\")\n",
        "        print(f\"Error: The file '{file_path}' was not found.\")\n",
        "    except Exception as e:\n",
        "        logging.error(f\"An unexpected error occurred: {e}\")\n",
        "        print(f\"An unexpected error occurred: {e}\")\n",
        "\n",
        "def write_numbers_to_file(file_path, numbers):\n",
        "    try:\n",
        "        with open(file_path, 'w') as file:\n",
        "            for number in numbers:\n",
        "                file.write(f\"{number}\\n\")\n",
        "        logging.info(f\"Numbers written to {file_path}\")\n",
        "        print(f\"Numbers written to {file_path}\")\n",
        "    except Exception as e:\n",
        "        logging.error(f\"An unexpected error occurred while writing to file: {e}\")\n",
        "        print(f\"An unexpected error occurred while writing to file: {e}\")\n",
        "\n",
        "# Example usage with memory profiling\n",
        "if __name__ == '__main__':\n",
        "    log_file = 'app.log'\n",
        "    setup_logging(log_file)\n",
        "    file_path = 'example.txt'  # Replace with your file path\n",
        "    numbers = list(range(1, 11))  # Example list of numbers\n",
        "    write_numbers_to_file(file_path, numbers)\n",
        "\n",
        "    tracemalloc.start()  # Start memory profiling\n",
        "    print_file_content(file_path)\n",
        "    current, peak = tracemalloc.get_traced_memory()\n",
        "    logging.info(f\"Current memory usage: {current / 10**6} MB\")\n",
        "    logging.info(f\"Peak memory usage: {peak / 10**6} MB\")\n",
        "    print(f\"Current memory usage: {current / 10**6} MB\")\n",
        "    print(f\"Peak memory usage: {peak / 10**6} MB\")\n",
        "    tracemalloc.stop()\n"
      ],
      "metadata": {
        "id": "99rco16mh_Sr"
      },
      "execution_count": null,
      "outputs": []
    },
    {
      "cell_type": "code",
      "source": [
        "#19.Write a program that handles both IndexError and KeyError using a try-except block.\n",
        "import tracemalloc\n",
        "import logging\n",
        "from logging.handlers import RotatingFileHandler\n",
        "\n",
        "def setup_logging(log_file):\n",
        "    logger = logging.getLogger()\n",
        "    logger.setLevel(logging.INFO)\n",
        "    handler = RotatingFileHandler(log_file, maxBytes=1*1024*1024, backupCount=3)  # 1MB rotation, keep 3 backups\n",
        "    formatter = logging.Formatter('%(asctime)s - %(levelname)s - %(message)s')\n",
        "    handler.setFormatter(formatter)\n",
        "    logger.addHandler(handler)\n",
        "\n",
        "def print_file_content(file_path):\n",
        "    try:\n",
        "        with open(file_path, 'r') as file:\n",
        "            content = file.read()\n",
        "            if content.strip():  # Check if content is not empty after stripping whitespace\n",
        "                logging.info(\"File Content:\")\n",
        "                logging.info(content)\n",
        "                print(\"File Content:\")\n",
        "                print(content)\n",
        "            else:\n",
        "                logging.warning(\"The file is empty.\")\n",
        "                print(\"The file is empty.\")\n",
        "    except FileNotFoundError:\n",
        "        logging.error(f\"Error: The file '{file_path}' was not found.\")\n",
        "        print(f\"Error: The file '{file_path}' was not found.\")\n",
        "    except Exception as e:\n",
        "        logging.error(f\"An unexpected error occurred: {e}\")\n",
        "        print(f\"An unexpected error occurred: {e}\")\n",
        "\n",
        "def write_numbers_to_file(file_path, numbers):\n",
        "    try:\n",
        "        with open(file_path, 'w') as file:\n",
        "            for number in numbers:\n",
        "                file.write(f\"{number}\\n\")\n",
        "        logging.info(f\"Numbers written to {file_path}\")\n",
        "        print(f\"Numbers written to {file_path}\")\n",
        "    except Exception as e:\n",
        "        logging.error(f\"An unexpected error occurred while writing to file: {e}\")\n",
        "        print(f\"An unexpected error occurred while writing to file: {e}\")\n",
        "\n",
        "def handle_exceptions():\n",
        "    try:\n",
        "        my_list = [1, 2, 3]\n",
        "        print(my_list[5])  # This will raise IndexError\n",
        "    except IndexError as e:\n",
        "        logging.error(f\"IndexError occurred: {e}\")\n",
        "        print(f\"IndexError occurred: {e}\")\n",
        "\n",
        "    try:\n",
        "        my_dict = {'a': 1, 'b': 2}\n",
        "        print(my_dict['c'])  # This will raise KeyError\n",
        "    except KeyError as e:\n",
        "        logging.error(f\"KeyError occurred: {e}\")\n",
        "        print(f\"KeyError occurred: {e}\")\n",
        "\n",
        "# Example usage with memory profiling\n",
        "if __name__ == '__main__':\n",
        "    log_file = 'app.log'\n",
        "    setup_logging(log_file)\n",
        "    file_path = 'example.txt'  # Replace with your file path\n",
        "    numbers = list(range(1, 11))  # Example list of numbers\n",
        "    write_numbers_to_file(file_path, numbers)\n",
        "\n",
        "    tracemalloc.start()  # Start memory profiling\n",
        "    print_file_content(file_path)\n",
        "    current, peak = tracemalloc.get_traced_memory()\n",
        "    logging.info(f\"Current memory usage: {current / 10**6} MB\")\n",
        "    logging.info(f\"Peak memory usage: {peak / 10**6} MB\")\n",
        "    print(f\"Current memory usage: {current / 10**6} MB\")\n",
        "    print(f\"Peak memory usage: {peak / 10**6} MB\")\n",
        "    tracemalloc.stop()\n",
        "\n",
        "    handle_exceptions()\n"
      ],
      "metadata": {
        "id": "kqWHe2rNicGd"
      },
      "execution_count": null,
      "outputs": []
    },
    {
      "cell_type": "code",
      "source": [
        "#20. How would you open a file and read its contents using a context manager in Python.\n",
        "\n",
        "with open(\"filename.txt\", \"r\") as file:\n",
        "    contents = file.read()  # Reads the entire file content into a string\n",
        "    print(contents)\n"
      ],
      "metadata": {
        "id": "GyETD2J1i4XZ"
      },
      "execution_count": null,
      "outputs": []
    },
    {
      "cell_type": "code",
      "source": [
        "#21. Write a Python program that reads a file and prints the number of occurrences of a specific word.\n",
        "def count_word_occurrences(filename, word):\n",
        "    try:\n",
        "        with open(filename, 'r', encoding='utf-8') as file:\n",
        "            content = file.read()\n",
        "            words = content.split()\n",
        "            count = sum(1 for w in words if w.lower() == word.lower())\n",
        "            print(f'The word \"{word}\" appears {count} times in the file \"{filename}\".')\n",
        "    except FileNotFoundError:\n",
        "        print(f'The file \"{filename}\" was not found.')\n",
        "    except Exception as e:\n",
        "        print(f'An error occurred: {e}')\n",
        "\n",
        "if __name__ == \"__main__\":\n",
        "    filename = input(\"Enter the filename: \")\n",
        "    word = input(\"Enter the word to search for: \")\n",
        "    count_word_occurrences(filename, word)\n"
      ],
      "metadata": {
        "id": "oICQ6D6qjSWs"
      },
      "execution_count": null,
      "outputs": []
    },
    {
      "cell_type": "code",
      "source": [
        "#22. How can you check if a file is empty before attempting to read its contents.\n",
        "file_path = \"example.txt\"\n",
        "\n",
        "with open(file_path, \"r\") as file:\n",
        "    if file.read() == \"\":\n",
        "        print(\"File is empty\")\n",
        "    else:\n",
        "        print(\"File is not empty\")\n"
      ],
      "metadata": {
        "id": "ByajOOoJjfqd"
      },
      "execution_count": null,
      "outputs": []
    },
    {
      "cell_type": "code",
      "source": [
        "#23. Write a Python program that writes to a log file when an error occurs during file handling.\n",
        "import tracemalloc\n",
        "import logging\n",
        "from logging.handlers import RotatingFileHandler\n",
        "\n",
        "def setup_logging(log_file):\n",
        "    logger = logging.getLogger()\n",
        "    logger.setLevel(logging.INFO)\n",
        "    handler = RotatingFileHandler(log_file, maxBytes=1*1024*1024, backupCount=3)  # 1MB rotation, keep 3 backups\n",
        "    formatter = logging.Formatter('%(asctime)s - %(levelname)s - %(message)s')\n",
        "    handler.setFormatter(formatter)\n",
        "    logger.addHandler(handler)\n",
        "\n",
        "def print_file_content(file_path):\n",
        "    try:\n",
        "        with open(file_path, 'r') as file:\n",
        "            content = file.read()\n",
        "            if content.strip():  # Check if content is not empty after stripping whitespace\n",
        "                logging.info(\"File Content:\")\n",
        "                logging.info(content)\n",
        "                print(\"File Content:\")\n",
        "                print(content)\n",
        "            else:\n",
        "                logging.warning(\"The file is empty.\")\n",
        "                print(\"The file is empty.\")\n",
        "    except FileNotFoundError:\n",
        "        logging.error(f\"Error: The file '{file_path}' was not found.\")\n",
        "        print(f\"Error: The file '{file_path}' was not found.\")\n",
        "    except Exception as e:\n",
        "        logging.error(f\"An unexpected error occurred: {e}\")\n",
        "        print(f\"An unexpected error occurred: {e}\")\n",
        "\n",
        "def write_numbers_to_file(file_path, numbers):\n",
        "    try:\n",
        "        with open(file_path, 'w') as file:\n",
        "            for number in numbers:\n",
        "                file.write(f\"{number}\\n\")\n",
        "        logging.info(f\"Numbers written to {file_path}\")\n",
        "        print(f\"Numbers written to {file_path}\")\n",
        "    except Exception as e:\n",
        "        logging.error(f\"An unexpected error occurred while writing to file: {e}\")\n",
        "        print(f\"An unexpected error occurred while writing to file: {e}\")\n",
        "\n",
        "def handle_exceptions():\n",
        "    try:\n",
        "        my_list = [1, 2, 3]\n",
        "        print(my_list[5])  # This will raise IndexError\n",
        "    except IndexError as e:\n",
        "        logging.error(f\"IndexError occurred: {e}\")\n",
        "        print(f\"IndexError occurred: {e}\")\n",
        "\n",
        "    try:\n",
        "        my_dict = {'a': 1, 'b': 2}\n",
        "        print(my_dict['c'])  # This will raise KeyError\n",
        "    except KeyError as e:\n",
        "        logging.error(f\"KeyError occurred: {e}\")\n",
        "        print(f\"KeyError occurred: {e}\")\n",
        "\n",
        "# Example usage with memory profiling\n",
        "if __name__ == '__main__':\n",
        "    log_file = 'app.log'\n",
        "    setup_logging(log_file)\n",
        "    file_path = 'example.txt'  # Replace with your file path\n",
        "    numbers = list(range(1, 11))  # Example list of numbers\n",
        "    write_numbers_to_file(file_path, numbers)\n",
        "\n",
        "    tracemalloc.start()  # Start memory profiling\n",
        "    print_file_content(file_path)\n",
        "    current, peak = tracemalloc.get_traced_memory()\n",
        "    logging.info(f\"Current memory usage: {current / 10**6} MB\")\n",
        "    logging.info(f\"Peak memory usage: {peak / 10**6} MB\")\n",
        "    print(f\"Current memory usage: {current / 10**6} MB\")\n",
        "    print(f\"Peak memory usage: {peak / 10**6} MB\")\n",
        "    tracemalloc.stop()\n",
        "\n",
        "    handle_exceptions()\n"
      ],
      "metadata": {
        "id": "qUKcePjUjx8M"
      },
      "execution_count": null,
      "outputs": []
    }
  ]
}